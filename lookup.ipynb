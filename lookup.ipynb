{
 "cells": [
  {
   "cell_type": "code",
   "execution_count": 2,
   "metadata": {},
   "outputs": [],
   "source": [
    "import pandas as pd\n",
    "df = pd.read_csv('./fifa23dataset/male_players (legacy).csv', dtype='object')\n"
   ]
  },
  {
   "cell_type": "code",
   "execution_count": 3,
   "metadata": {},
   "outputs": [
    {
     "name": "stdout",
     "output_type": "stream",
     "text": [
      "Index(['player_id', 'player_url', 'fifa_version', 'fifa_update',\n",
      "       'fifa_update_date', 'short_name', 'long_name', 'player_positions',\n",
      "       'overall', 'potential',\n",
      "       ...\n",
      "       'cdm', 'rdm', 'rwb', 'lb', 'lcb', 'cb', 'rcb', 'rb', 'gk',\n",
      "       'player_face_url'],\n",
      "      dtype='object', length=110)\n"
     ]
    }
   ],
   "source": [
    "print(df.columns)"
   ]
  },
  {
   "cell_type": "code",
   "execution_count": 8,
   "metadata": {},
   "outputs": [
    {
     "name": "stdout",
     "output_type": "stream",
     "text": [
      "       player_id                          player_url fifa_version fifa_update  \\\n",
      "0         158023  /player/158023/lionel-messi/150002           15           2   \n",
      "16182     158023  /player/158023/lionel-messi/160002           16           2   \n",
      "32862     158023  /player/158023/lionel-messi/170002           17           2   \n",
      "50428     158023  /player/158023/lionel-messi/180002           18           2   \n",
      "68356     158023  /player/158023/lionel-messi/190002           19           2   \n",
      "86441     158023  /player/158023/lionel-messi/200002           20           2   \n",
      "104924    158023  /player/158023/lionel-messi/210002           21           2   \n",
      "123811    158023  /player/158023/lionel-messi/220002           22           2   \n",
      "143050    158023  /player/158023/lionel-messi/230002           23           2   \n",
      "\n",
      "       fifa_update_date short_name                       long_name  \\\n",
      "0            2014-09-18   L. Messi  Lionel Andrés Messi Cuccittini   \n",
      "16182        2015-09-21   L. Messi  Lionel Andrés Messi Cuccittini   \n",
      "32862        2016-09-20   L. Messi  Lionel Andrés Messi Cuccittini   \n",
      "50428        2017-09-18   L. Messi  Lionel Andrés Messi Cuccittini   \n",
      "68356        2018-08-21   L. Messi  Lionel Andrés Messi Cuccittini   \n",
      "86441        2019-09-19   L. Messi  Lionel Andrés Messi Cuccittini   \n",
      "104924       2020-09-23   L. Messi  Lionel Andrés Messi Cuccittini   \n",
      "123811       2021-09-23   L. Messi  Lionel Andrés Messi Cuccittini   \n",
      "143050       2022-09-26   L. Messi  Lionel Andrés Messi Cuccittini   \n",
      "\n",
      "       player_positions overall potential  ...   cdm   rdm   rwb    lb   lcb  \\\n",
      "0                    CF      93        95  ...  62+3  62+3  62+3  54+3  45+3   \n",
      "16182            RW, CF      94        95  ...  57+3  57+3  62+3  57+3  44+3   \n",
      "32862                RW      93        93  ...  59+4  59+4  62+4  57+4  45+4   \n",
      "50428                RW      93        93  ...  59+4  59+4  62+4  57+4  45+4   \n",
      "68356        CF, RW, ST      94        94  ...  61+7  61+7  63+7  59+7  48+7   \n",
      "86441        RW, CF, ST      94        94  ...  66+6  66+6  68+6  63+6  53+6   \n",
      "104924       RW, ST, CF      93        93  ...  65+3  65+3  66+3  62+3  52+3   \n",
      "123811       RW, ST, CF      93        93  ...  64+3  64+3  66+3  61+3  50+3   \n",
      "143050               RW      91        91  ...  63+3  63+3  64+3  59+3  50+3   \n",
      "\n",
      "          cb   rcb    rb    gk  \\\n",
      "0       45+3  45+3  54+3  15+3   \n",
      "16182   44+3  44+3  57+3  19+3   \n",
      "32862   45+4  45+4  57+4  19+4   \n",
      "50428   45+4  45+4  57+4  19+4   \n",
      "68356   48+7  48+7  59+7  19+7   \n",
      "86441   53+6  53+6  63+6  19+6   \n",
      "104924  52+3  52+3  62+3  19+3   \n",
      "123811  50+3  50+3  61+3  19+3   \n",
      "143050  50+3  50+3  59+3  19+3   \n",
      "\n",
      "                                          player_face_url  \n",
      "0       https://cdn.sofifa.net/players/158/023/15_120.png  \n",
      "16182   https://cdn.sofifa.net/players/158/023/16_120.png  \n",
      "32862   https://cdn.sofifa.net/players/158/023/17_120.png  \n",
      "50428   https://cdn.sofifa.net/players/158/023/18_120.png  \n",
      "68356   https://cdn.sofifa.net/players/158/023/19_120.png  \n",
      "86441   https://cdn.sofifa.net/players/158/023/20_120.png  \n",
      "104924  https://cdn.sofifa.net/players/158/023/21_120.png  \n",
      "123811  https://cdn.sofifa.net/players/158/023/22_120.png  \n",
      "143050  https://cdn.sofifa.net/players/158/023/23_120.png  \n",
      "\n",
      "[9 rows x 110 columns]\n"
     ]
    }
   ],
   "source": [
    "filtered_df = df[df['short_name'].str.contains('L. Messi', case=False)]\n",
    "print(filtered_df)"
   ]
  }
 ],
 "metadata": {
  "kernelspec": {
   "display_name": "Python 3",
   "language": "python",
   "name": "python3"
  },
  "language_info": {
   "codemirror_mode": {
    "name": "ipython",
    "version": 3
   },
   "file_extension": ".py",
   "mimetype": "text/x-python",
   "name": "python",
   "nbconvert_exporter": "python",
   "pygments_lexer": "ipython3",
   "version": "3.12.1"
  }
 },
 "nbformat": 4,
 "nbformat_minor": 2
}
